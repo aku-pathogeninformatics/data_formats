{
 "cells": [
  {
   "cell_type": "markdown",
   "metadata": {},
   "source": [
    "# NGS Data formats and QC\n",
    "\n",
    "## Introduction\n",
    "There are several file formats for storing Next Generation Sequencing (NGS) data. In this tutorial we will look at some of the most common formats for storing NGS reads and variant data. We will cover the following formats:\n",
    "\n",
    "__FASTQ__ - This format stores unaligned read sequences with base qualities  \n",
    "__SAM/BAM__ - This format stores unaligned or aligned reads (text and binary formats)  \n",
    "__CRAM__ - This format is similar to BAM but has better compression than BAM  \n",
    "__VCF/BCF__ - Flexible variant call format for storing SNPs, indels, structural variations (text and binary formats)  \n",
    "\n",
    "Further to understanding the different file formats, it is important to remember that all sequencing platforms have technical limitations that can introduce biases in your sequencing data. Because of this it is very important to check the quality of the data before starting any analysis, whether you are planning to use something you have sequenced yourself or publicly available data. In the latter part of this tutorial we will describe how to perform a QC assessment for your NGS data, and also suggest how to identify possible contamination.\n",
    "\n",
    "## Learning outcomes\n",
    "On completion of the tutorial, you can expect to be able to:\n",
    "\n",
    "* Describe the different NGS data formats available (FASTQ, SAM/BAM, CRAM, VCF/BCF)\n",
    "* Perform a QC assessment of high throughput sequence data\n",
    "* Identify possible contamination in high throughput sequence data\n",
    "\n",
    "## Tutorial sections\n",
    "This tutorial comprises the following sections:   \n",
    " 1. [Data formats](formats.ipynb)   \n",
    " 2. [QC assessment](assessment.ipynb)   \n",
    " 3. [Identifying contamination](contamination.ipynb)   \n",
    "\n",
    "## Authors\n",
    "This tutorial was written by [Sara Sjunnebo](https://github.com/ssjunnebo) and [Jacqui Keane](https://github.com/jacquikeane) based on material from [Petr Danecek](https://github.com/pd3) and [Thomas Keane](https://github.com/tk2).\n",
    "\n",
    "## Running the commands from this tutorial\n",
    "You can follow this tutorial by typing all the commands you see into a terminal window. This is similar to the \"Command Prompt\" window on MS Windows systems, which allows the user to type DOS commands to manage files.\n",
    "\n",
    "To get started, open a new terminal on your computer and type the command below:"
   ]
  },
  {
   "cell_type": "code",
   "execution_count": null,
   "metadata": {},
   "outputs": [],
   "source": [
    "cd ~/course_data/data_formats/data"
   ]
  },
  {
   "cell_type": "markdown",
   "metadata": {},
   "source": [
    "## Let’s get started!\n",
    "This tutorial assumes that you have samtools, bcftools, fastqc and bactinspector on your computer. The easiest way to do this is by creating a Conda environment called `qc` and install the listed software using conda. This has already been setup on this virtual machine. To activate the environment use"
   ]
  },
  {
   "cell_type": "code",
   "execution_count": null,
   "metadata": {},
   "outputs": [],
   "source": [
    "conda activate qc"
   ]
  },
  {
   "cell_type": "markdown",
   "metadata": {},
   "source": [
    "After your environment is activated you can run the following commands:"
   ]
  },
  {
   "cell_type": "code",
   "execution_count": null,
   "metadata": {},
   "outputs": [],
   "source": [
    "samtools --help"
   ]
  },
  {
   "cell_type": "code",
   "execution_count": null,
   "metadata": {},
   "outputs": [],
   "source": [
    "bcftools --help"
   ]
  },
  {
   "cell_type": "code",
   "execution_count": null,
   "metadata": {},
   "outputs": [],
   "source": [
    "fastqc --help"
   ]
  },
  {
   "cell_type": "code",
   "execution_count": null,
   "metadata": {},
   "outputs": [],
   "source": [
    "bactinspector -h"
   ]
  },
  {
   "cell_type": "markdown",
   "metadata": {},
   "source": [
    "This should return the help message for  these tools.\n",
    "\n",
    "To get started with the tutorial, head to the first section: [Data formats](formats.ipynb)"
   ]
  }
 ],
 "metadata": {
  "kernelspec": {
   "display_name": "Bash",
   "language": "bash",
   "name": "bash"
  },
  "language_info": {
   "codemirror_mode": "shell",
   "file_extension": ".sh",
   "mimetype": "text/x-sh",
   "name": "bash"
  }
 },
 "nbformat": 4,
 "nbformat_minor": 2
}
